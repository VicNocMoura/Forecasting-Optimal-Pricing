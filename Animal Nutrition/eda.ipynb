{
 "cells": [
  {
   "cell_type": "code",
   "execution_count": 2,
   "metadata": {},
   "outputs": [],
   "source": [
    "import pandas as pd\n",
    "import matplotlib.pyplot as plt\n",
    "import seaborn as sns\n",
    "import plotly.express as px"
   ]
  },
  {
   "cell_type": "code",
   "execution_count": 3,
   "metadata": {},
   "outputs": [],
   "source": [
    "# Load data\n",
    "pd.set_option('display.max_columns', 1000, 'display.width', 1000, 'display.max_rows',1000)\n",
    "data = pd.read_csv('../Data Files/SAMPLE_BASE_SALES.csv', delimiter=';')"
   ]
  },
  {
   "cell_type": "code",
   "execution_count": 4,
   "metadata": {},
   "outputs": [
    {
     "data": {
      "text/html": [
       "<div>\n",
       "<style scoped>\n",
       "    .dataframe tbody tr th:only-of-type {\n",
       "        vertical-align: middle;\n",
       "    }\n",
       "\n",
       "    .dataframe tbody tr th {\n",
       "        vertical-align: top;\n",
       "    }\n",
       "\n",
       "    .dataframe thead th {\n",
       "        text-align: right;\n",
       "    }\n",
       "</style>\n",
       "<table border=\"1\" class=\"dataframe\">\n",
       "  <thead>\n",
       "    <tr style=\"text-align: right;\">\n",
       "      <th></th>\n",
       "      <th>ROW_ID</th>\n",
       "      <th>AMOUNT_BILLED</th>\n",
       "      <th>ACTIVITY_REVENUE</th>\n",
       "      <th>BRAND</th>\n",
       "      <th>BU_NEGOCIO</th>\n",
       "      <th>CONDPAGTO</th>\n",
       "      <th>GROSS_MARGIN</th>\n",
       "      <th>GROSS_MARGIN_R_KG</th>\n",
       "      <th>DISTRIBUIDOR</th>\n",
       "      <th>Year</th>\n",
       "      <th>Quarter</th>\n",
       "      <th>Month</th>\n",
       "      <th>Day</th>\n",
       "      <th>CUSTOMER_STATE</th>\n",
       "      <th>CUSTOMER_CITY_CLEAN</th>\n",
       "      <th>PL1</th>\n",
       "      <th>PL2</th>\n",
       "      <th>PL3</th>\n",
       "      <th>PRODUCT_CODE</th>\n",
       "      <th>PRODUCT_NAME</th>\n",
       "      <th>QUANTITY_BILLED</th>\n",
       "      <th>QUANTITY_BILLED_TONS</th>\n",
       "      <th>UNIT_PRICE</th>\n",
       "      <th>YEAR_ANO</th>\n",
       "      <th>SALES_CHANNEL_UPPER</th>\n",
       "      <th>NET_REVENUE</th>\n",
       "      <th>NET_MARGIN_R</th>\n",
       "      <th>CUSTOMER_CODE</th>\n",
       "      <th>CODIGODISTRIBUIDOR</th>\n",
       "      <th>CUSTOMER_NAME</th>\n",
       "    </tr>\n",
       "  </thead>\n",
       "  <tbody>\n",
       "    <tr>\n",
       "      <th>0</th>\n",
       "      <td>1398981</td>\n",
       "      <td>509.65</td>\n",
       "      <td>367.94</td>\n",
       "      <td>FIBS CAES</td>\n",
       "      <td>PET DOMESTIC</td>\n",
       "      <td>14/21/28/35/42 DD</td>\n",
       "      <td>-33.2776</td>\n",
       "      <td>-0,147900</td>\n",
       "      <td>SHOPPING DO FAZENDEIRO PROD. DA AGROPEC. LTDA-...</td>\n",
       "      <td>2020</td>\n",
       "      <td>Qtr 3</td>\n",
       "      <td>August</td>\n",
       "      <td>1</td>\n",
       "      <td>RJ</td>\n",
       "      <td>VOLTA REDONDA</td>\n",
       "      <td>DOG</td>\n",
       "      <td>CAES</td>\n",
       "      <td>ECONOMIC</td>\n",
       "      <td>05.5594.40.15</td>\n",
       "      <td>PRODUCT 14</td>\n",
       "      <td>225.0</td>\n",
       "      <td>0.225</td>\n",
       "      <td>2265.111111</td>\n",
       "      <td>2020</td>\n",
       "      <td>DISTRIBUIDOR/REVENDA</td>\n",
       "      <td>367.94</td>\n",
       "      <td>-33.2776</td>\n",
       "      <td>281054</td>\n",
       "      <td>281054</td>\n",
       "      <td>CUSTOMER 1110</td>\n",
       "    </tr>\n",
       "    <tr>\n",
       "      <th>1</th>\n",
       "      <td>1398982</td>\n",
       "      <td>595.06</td>\n",
       "      <td>429.59</td>\n",
       "      <td>FIBS CAES</td>\n",
       "      <td>PET DOMESTIC</td>\n",
       "      <td>14/21/28/35/42 DD</td>\n",
       "      <td>21.4282</td>\n",
       "      <td>0,095236</td>\n",
       "      <td>SHOPPING DO FAZENDEIRO PROD. DA AGROPEC. LTDA-...</td>\n",
       "      <td>2020</td>\n",
       "      <td>Qtr 3</td>\n",
       "      <td>August</td>\n",
       "      <td>1</td>\n",
       "      <td>RJ</td>\n",
       "      <td>VOLTA REDONDA</td>\n",
       "      <td>DOG</td>\n",
       "      <td>CAES</td>\n",
       "      <td>ECONOMIC</td>\n",
       "      <td>05.5594.40.15</td>\n",
       "      <td>PRODUCT 14</td>\n",
       "      <td>225.0</td>\n",
       "      <td>0.225</td>\n",
       "      <td>2644.711111</td>\n",
       "      <td>2020</td>\n",
       "      <td>DISTRIBUIDOR/REVENDA</td>\n",
       "      <td>429.59</td>\n",
       "      <td>21.4282</td>\n",
       "      <td>281054</td>\n",
       "      <td>281054</td>\n",
       "      <td>CUSTOMER 1110</td>\n",
       "    </tr>\n",
       "    <tr>\n",
       "      <th>2</th>\n",
       "      <td>1398983</td>\n",
       "      <td>1351.20</td>\n",
       "      <td>1064.08</td>\n",
       "      <td>KAZUU DOG</td>\n",
       "      <td>PET DOMESTIC</td>\n",
       "      <td>3 DDD S/JRS</td>\n",
       "      <td>-49.9650</td>\n",
       "      <td>-0,083275</td>\n",
       "      <td>AGP PRODUTOS AGROPECUARIOS LTDA - ME (DIST/REP)</td>\n",
       "      <td>2020</td>\n",
       "      <td>Qtr 3</td>\n",
       "      <td>August</td>\n",
       "      <td>1</td>\n",
       "      <td>TO</td>\n",
       "      <td>PALMAS</td>\n",
       "      <td>DOG</td>\n",
       "      <td>CAES</td>\n",
       "      <td>STANDARD</td>\n",
       "      <td>01.5802.40.15</td>\n",
       "      <td>PRODUCT 11</td>\n",
       "      <td>600.0</td>\n",
       "      <td>0.600</td>\n",
       "      <td>2252.000000</td>\n",
       "      <td>2020</td>\n",
       "      <td>DISTRIBUIDOR/REVENDA</td>\n",
       "      <td>1064.08</td>\n",
       "      <td>-49.9650</td>\n",
       "      <td>319062</td>\n",
       "      <td>319062</td>\n",
       "      <td>CUSTOMER 1380</td>\n",
       "    </tr>\n",
       "    <tr>\n",
       "      <th>3</th>\n",
       "      <td>1398984</td>\n",
       "      <td>2232.40</td>\n",
       "      <td>1758.02</td>\n",
       "      <td>KAZUU DOG</td>\n",
       "      <td>PET DOMESTIC</td>\n",
       "      <td>3 DDD S/JRS</td>\n",
       "      <td>-120.2985</td>\n",
       "      <td>-0,120299</td>\n",
       "      <td>AGP PRODUTOS AGROPECUARIOS LTDA - ME (DIST/REP)</td>\n",
       "      <td>2020</td>\n",
       "      <td>Qtr 3</td>\n",
       "      <td>August</td>\n",
       "      <td>1</td>\n",
       "      <td>TO</td>\n",
       "      <td>PALMAS</td>\n",
       "      <td>DOG</td>\n",
       "      <td>CAES</td>\n",
       "      <td>STANDARD</td>\n",
       "      <td>01.5802.40.25</td>\n",
       "      <td>PRODUCT 12</td>\n",
       "      <td>1000.0</td>\n",
       "      <td>1.000</td>\n",
       "      <td>2232.400000</td>\n",
       "      <td>2020</td>\n",
       "      <td>DISTRIBUIDOR/REVENDA</td>\n",
       "      <td>1758.02</td>\n",
       "      <td>-120.2985</td>\n",
       "      <td>319062</td>\n",
       "      <td>319062</td>\n",
       "      <td>CUSTOMER 1380</td>\n",
       "    </tr>\n",
       "    <tr>\n",
       "      <th>4</th>\n",
       "      <td>1398985</td>\n",
       "      <td>1214.40</td>\n",
       "      <td>956.34</td>\n",
       "      <td>FIBS CAES</td>\n",
       "      <td>PET DOMESTIC</td>\n",
       "      <td>3 DDD S/JRS</td>\n",
       "      <td>-165.0948</td>\n",
       "      <td>-0,275158</td>\n",
       "      <td>AGP PRODUTOS AGROPECUARIOS LTDA - ME (DIST/REP)</td>\n",
       "      <td>2020</td>\n",
       "      <td>Qtr 3</td>\n",
       "      <td>August</td>\n",
       "      <td>1</td>\n",
       "      <td>TO</td>\n",
       "      <td>PALMAS</td>\n",
       "      <td>DOG</td>\n",
       "      <td>CAES</td>\n",
       "      <td>ECONOMIC</td>\n",
       "      <td>05.5594.40.15</td>\n",
       "      <td>PRODUCT 14</td>\n",
       "      <td>600.0</td>\n",
       "      <td>0.600</td>\n",
       "      <td>2024.000000</td>\n",
       "      <td>2020</td>\n",
       "      <td>DISTRIBUIDOR/REVENDA</td>\n",
       "      <td>956.34</td>\n",
       "      <td>-165.0948</td>\n",
       "      <td>319062</td>\n",
       "      <td>319062</td>\n",
       "      <td>CUSTOMER 1380</td>\n",
       "    </tr>\n",
       "  </tbody>\n",
       "</table>\n",
       "</div>"
      ],
      "text/plain": [
       "    ROW_ID  AMOUNT_BILLED  ACTIVITY_REVENUE      BRAND    BU_NEGOCIO          CONDPAGTO  GROSS_MARGIN GROSS_MARGIN_R_KG                                       DISTRIBUIDOR  Year Quarter   Month  Day CUSTOMER_STATE CUSTOMER_CITY_CLEAN  PL1   PL2       PL3   PRODUCT_CODE PRODUCT_NAME  QUANTITY_BILLED  QUANTITY_BILLED_TONS   UNIT_PRICE  YEAR_ANO   SALES_CHANNEL_UPPER  NET_REVENUE  NET_MARGIN_R  CUSTOMER_CODE CODIGODISTRIBUIDOR  CUSTOMER_NAME\n",
       "0  1398981         509.65            367.94  FIBS CAES  PET DOMESTIC  14/21/28/35/42 DD      -33.2776         -0,147900  SHOPPING DO FAZENDEIRO PROD. DA AGROPEC. LTDA-...  2020   Qtr 3  August    1             RJ       VOLTA REDONDA  DOG  CAES  ECONOMIC  05.5594.40.15   PRODUCT 14            225.0                 0.225  2265.111111      2020  DISTRIBUIDOR/REVENDA       367.94      -33.2776         281054             281054  CUSTOMER 1110\n",
       "1  1398982         595.06            429.59  FIBS CAES  PET DOMESTIC  14/21/28/35/42 DD       21.4282          0,095236  SHOPPING DO FAZENDEIRO PROD. DA AGROPEC. LTDA-...  2020   Qtr 3  August    1             RJ       VOLTA REDONDA  DOG  CAES  ECONOMIC  05.5594.40.15   PRODUCT 14            225.0                 0.225  2644.711111      2020  DISTRIBUIDOR/REVENDA       429.59       21.4282         281054             281054  CUSTOMER 1110\n",
       "2  1398983        1351.20           1064.08  KAZUU DOG  PET DOMESTIC        3 DDD S/JRS      -49.9650         -0,083275    AGP PRODUTOS AGROPECUARIOS LTDA - ME (DIST/REP)  2020   Qtr 3  August    1             TO              PALMAS  DOG  CAES  STANDARD  01.5802.40.15   PRODUCT 11            600.0                 0.600  2252.000000      2020  DISTRIBUIDOR/REVENDA      1064.08      -49.9650         319062             319062  CUSTOMER 1380\n",
       "3  1398984        2232.40           1758.02  KAZUU DOG  PET DOMESTIC        3 DDD S/JRS     -120.2985         -0,120299    AGP PRODUTOS AGROPECUARIOS LTDA - ME (DIST/REP)  2020   Qtr 3  August    1             TO              PALMAS  DOG  CAES  STANDARD  01.5802.40.25   PRODUCT 12           1000.0                 1.000  2232.400000      2020  DISTRIBUIDOR/REVENDA      1758.02     -120.2985         319062             319062  CUSTOMER 1380\n",
       "4  1398985        1214.40            956.34  FIBS CAES  PET DOMESTIC        3 DDD S/JRS     -165.0948         -0,275158    AGP PRODUTOS AGROPECUARIOS LTDA - ME (DIST/REP)  2020   Qtr 3  August    1             TO              PALMAS  DOG  CAES  ECONOMIC  05.5594.40.15   PRODUCT 14            600.0                 0.600  2024.000000      2020  DISTRIBUIDOR/REVENDA       956.34     -165.0948         319062             319062  CUSTOMER 1380"
      ]
     },
     "execution_count": 4,
     "metadata": {},
     "output_type": "execute_result"
    }
   ],
   "source": [
    "data.head()"
   ]
  },
  {
   "cell_type": "code",
   "execution_count": 5,
   "metadata": {},
   "outputs": [
    {
     "data": {
      "text/plain": [
       "ROW_ID                    int64\n",
       "AMOUNT_BILLED           float64\n",
       "ACTIVITY_REVENUE        float64\n",
       "BRAND                    object\n",
       "BU_NEGOCIO               object\n",
       "CONDPAGTO                object\n",
       "GROSS_MARGIN            float64\n",
       "GROSS_MARGIN_R_KG        object\n",
       "DISTRIBUIDOR             object\n",
       "Year                      int64\n",
       "Quarter                  object\n",
       "Month                    object\n",
       "Day                       int64\n",
       "CUSTOMER_STATE           object\n",
       "CUSTOMER_CITY_CLEAN      object\n",
       "PL1                      object\n",
       "PL2                      object\n",
       "PL3                      object\n",
       "PRODUCT_CODE             object\n",
       "PRODUCT_NAME             object\n",
       "QUANTITY_BILLED         float64\n",
       "QUANTITY_BILLED_TONS    float64\n",
       "UNIT_PRICE              float64\n",
       "YEAR_ANO                  int64\n",
       "SALES_CHANNEL_UPPER      object\n",
       "NET_REVENUE             float64\n",
       "NET_MARGIN_R            float64\n",
       "CUSTOMER_CODE             int64\n",
       "CODIGODISTRIBUIDOR       object\n",
       "CUSTOMER_NAME            object\n",
       "dtype: object"
      ]
     },
     "execution_count": 5,
     "metadata": {},
     "output_type": "execute_result"
    }
   ],
   "source": [
    "data.dtypes"
   ]
  },
  {
   "cell_type": "code",
   "execution_count": 6,
   "metadata": {},
   "outputs": [],
   "source": [
    "cols = ['CUSTOMER_CODE', 'PRODUCT_CODE','Year','Quarter','Month','Day','BRAND','QUANTITY_BILLED','AMOUNT_BILLED','ACTIVITY_REVENUE',\n",
    "        'NET_REVENUE','GROSS_MARGIN','NET_MARGIN_R','UNIT_PRICE','CUSTOMER_STATE','CONDPAGTO','BU_NEGOCIO']"
   ]
  },
  {
   "cell_type": "code",
   "execution_count": 7,
   "metadata": {},
   "outputs": [],
   "source": [
    "df_clean = data[cols]"
   ]
  },
  {
   "cell_type": "code",
   "execution_count": 8,
   "metadata": {},
   "outputs": [
    {
     "data": {
      "text/html": [
       "<div>\n",
       "<style scoped>\n",
       "    .dataframe tbody tr th:only-of-type {\n",
       "        vertical-align: middle;\n",
       "    }\n",
       "\n",
       "    .dataframe tbody tr th {\n",
       "        vertical-align: top;\n",
       "    }\n",
       "\n",
       "    .dataframe thead th {\n",
       "        text-align: right;\n",
       "    }\n",
       "</style>\n",
       "<table border=\"1\" class=\"dataframe\">\n",
       "  <thead>\n",
       "    <tr style=\"text-align: right;\">\n",
       "      <th></th>\n",
       "      <th>CUSTOMER_CODE</th>\n",
       "      <th>PRODUCT_CODE</th>\n",
       "      <th>Year</th>\n",
       "      <th>Quarter</th>\n",
       "      <th>Month</th>\n",
       "      <th>Day</th>\n",
       "      <th>BRAND</th>\n",
       "      <th>QUANTITY_BILLED</th>\n",
       "      <th>AMOUNT_BILLED</th>\n",
       "      <th>ACTIVITY_REVENUE</th>\n",
       "      <th>NET_REVENUE</th>\n",
       "      <th>GROSS_MARGIN</th>\n",
       "      <th>NET_MARGIN_R</th>\n",
       "      <th>UNIT_PRICE</th>\n",
       "      <th>CUSTOMER_STATE</th>\n",
       "      <th>CONDPAGTO</th>\n",
       "      <th>BU_NEGOCIO</th>\n",
       "    </tr>\n",
       "  </thead>\n",
       "  <tbody>\n",
       "    <tr>\n",
       "      <th>0</th>\n",
       "      <td>281054</td>\n",
       "      <td>05.5594.40.15</td>\n",
       "      <td>2020</td>\n",
       "      <td>Qtr 3</td>\n",
       "      <td>August</td>\n",
       "      <td>1</td>\n",
       "      <td>FIBS CAES</td>\n",
       "      <td>225.0</td>\n",
       "      <td>509.65</td>\n",
       "      <td>367.94</td>\n",
       "      <td>367.94</td>\n",
       "      <td>-33.2776</td>\n",
       "      <td>-33.2776</td>\n",
       "      <td>2265.111111</td>\n",
       "      <td>RJ</td>\n",
       "      <td>14/21/28/35/42 DD</td>\n",
       "      <td>PET DOMESTIC</td>\n",
       "    </tr>\n",
       "    <tr>\n",
       "      <th>1</th>\n",
       "      <td>281054</td>\n",
       "      <td>05.5594.40.15</td>\n",
       "      <td>2020</td>\n",
       "      <td>Qtr 3</td>\n",
       "      <td>August</td>\n",
       "      <td>1</td>\n",
       "      <td>FIBS CAES</td>\n",
       "      <td>225.0</td>\n",
       "      <td>595.06</td>\n",
       "      <td>429.59</td>\n",
       "      <td>429.59</td>\n",
       "      <td>21.4282</td>\n",
       "      <td>21.4282</td>\n",
       "      <td>2644.711111</td>\n",
       "      <td>RJ</td>\n",
       "      <td>14/21/28/35/42 DD</td>\n",
       "      <td>PET DOMESTIC</td>\n",
       "    </tr>\n",
       "    <tr>\n",
       "      <th>2</th>\n",
       "      <td>319062</td>\n",
       "      <td>01.5802.40.15</td>\n",
       "      <td>2020</td>\n",
       "      <td>Qtr 3</td>\n",
       "      <td>August</td>\n",
       "      <td>1</td>\n",
       "      <td>KAZUU DOG</td>\n",
       "      <td>600.0</td>\n",
       "      <td>1351.20</td>\n",
       "      <td>1064.08</td>\n",
       "      <td>1064.08</td>\n",
       "      <td>-49.9650</td>\n",
       "      <td>-49.9650</td>\n",
       "      <td>2252.000000</td>\n",
       "      <td>TO</td>\n",
       "      <td>3 DDD S/JRS</td>\n",
       "      <td>PET DOMESTIC</td>\n",
       "    </tr>\n",
       "    <tr>\n",
       "      <th>3</th>\n",
       "      <td>319062</td>\n",
       "      <td>01.5802.40.25</td>\n",
       "      <td>2020</td>\n",
       "      <td>Qtr 3</td>\n",
       "      <td>August</td>\n",
       "      <td>1</td>\n",
       "      <td>KAZUU DOG</td>\n",
       "      <td>1000.0</td>\n",
       "      <td>2232.40</td>\n",
       "      <td>1758.02</td>\n",
       "      <td>1758.02</td>\n",
       "      <td>-120.2985</td>\n",
       "      <td>-120.2985</td>\n",
       "      <td>2232.400000</td>\n",
       "      <td>TO</td>\n",
       "      <td>3 DDD S/JRS</td>\n",
       "      <td>PET DOMESTIC</td>\n",
       "    </tr>\n",
       "    <tr>\n",
       "      <th>4</th>\n",
       "      <td>319062</td>\n",
       "      <td>05.5594.40.15</td>\n",
       "      <td>2020</td>\n",
       "      <td>Qtr 3</td>\n",
       "      <td>August</td>\n",
       "      <td>1</td>\n",
       "      <td>FIBS CAES</td>\n",
       "      <td>600.0</td>\n",
       "      <td>1214.40</td>\n",
       "      <td>956.34</td>\n",
       "      <td>956.34</td>\n",
       "      <td>-165.0948</td>\n",
       "      <td>-165.0948</td>\n",
       "      <td>2024.000000</td>\n",
       "      <td>TO</td>\n",
       "      <td>3 DDD S/JRS</td>\n",
       "      <td>PET DOMESTIC</td>\n",
       "    </tr>\n",
       "  </tbody>\n",
       "</table>\n",
       "</div>"
      ],
      "text/plain": [
       "   CUSTOMER_CODE   PRODUCT_CODE  Year Quarter   Month  Day      BRAND  QUANTITY_BILLED  AMOUNT_BILLED  ACTIVITY_REVENUE  NET_REVENUE  GROSS_MARGIN  NET_MARGIN_R   UNIT_PRICE CUSTOMER_STATE          CONDPAGTO    BU_NEGOCIO\n",
       "0         281054  05.5594.40.15  2020   Qtr 3  August    1  FIBS CAES            225.0         509.65            367.94       367.94      -33.2776      -33.2776  2265.111111             RJ  14/21/28/35/42 DD  PET DOMESTIC\n",
       "1         281054  05.5594.40.15  2020   Qtr 3  August    1  FIBS CAES            225.0         595.06            429.59       429.59       21.4282       21.4282  2644.711111             RJ  14/21/28/35/42 DD  PET DOMESTIC\n",
       "2         319062  01.5802.40.15  2020   Qtr 3  August    1  KAZUU DOG            600.0        1351.20           1064.08      1064.08      -49.9650      -49.9650  2252.000000             TO        3 DDD S/JRS  PET DOMESTIC\n",
       "3         319062  01.5802.40.25  2020   Qtr 3  August    1  KAZUU DOG           1000.0        2232.40           1758.02      1758.02     -120.2985     -120.2985  2232.400000             TO        3 DDD S/JRS  PET DOMESTIC\n",
       "4         319062  05.5594.40.15  2020   Qtr 3  August    1  FIBS CAES            600.0        1214.40            956.34       956.34     -165.0948     -165.0948  2024.000000             TO        3 DDD S/JRS  PET DOMESTIC"
      ]
     },
     "execution_count": 8,
     "metadata": {},
     "output_type": "execute_result"
    }
   ],
   "source": [
    "df_clean.head()"
   ]
  },
  {
   "cell_type": "code",
   "execution_count": 9,
   "metadata": {},
   "outputs": [
    {
     "data": {
      "text/plain": [
       "(26209, 17)"
      ]
     },
     "execution_count": 9,
     "metadata": {},
     "output_type": "execute_result"
    }
   ],
   "source": [
    "df_clean.shape"
   ]
  },
  {
   "cell_type": "code",
   "execution_count": 36,
   "metadata": {},
   "outputs": [],
   "source": [
    "df_sku = df_clean[(df_clean['PRODUCT_CODE'] == '01.5417.40.25')&(df_clean['CUSTOMER_CODE'] == 281054)]"
   ]
  },
  {
   "cell_type": "code",
   "execution_count": 38,
   "metadata": {},
   "outputs": [],
   "source": [
    "df_sku_agg = df_sku.groupby(['Year','Quarter','Month','Day']).agg({'QUANTITY_BILLED':'sum','AMOUNT_BILLED':'sum','ACTIVITY_REVENUE':'sum','NET_REVENUE':'sum','GROSS_MARGIN':'sum'}).reset_index()"
   ]
  },
  {
   "cell_type": "code",
   "execution_count": 26,
   "metadata": {},
   "outputs": [
    {
     "data": {
      "text/html": [
       "<div>\n",
       "<style scoped>\n",
       "    .dataframe tbody tr th:only-of-type {\n",
       "        vertical-align: middle;\n",
       "    }\n",
       "\n",
       "    .dataframe tbody tr th {\n",
       "        vertical-align: top;\n",
       "    }\n",
       "\n",
       "    .dataframe thead th {\n",
       "        text-align: right;\n",
       "    }\n",
       "</style>\n",
       "<table border=\"1\" class=\"dataframe\">\n",
       "  <thead>\n",
       "    <tr style=\"text-align: right;\">\n",
       "      <th></th>\n",
       "      <th>Year</th>\n",
       "      <th>Quarter</th>\n",
       "      <th>Month</th>\n",
       "      <th>Day</th>\n",
       "      <th>QUANTITY_BILLED</th>\n",
       "      <th>AMOUNT_BILLED</th>\n",
       "      <th>ACTIVITY_REVENUE</th>\n",
       "      <th>NET_REVENUE</th>\n",
       "      <th>GROSS_MARGIN</th>\n",
       "    </tr>\n",
       "  </thead>\n",
       "  <tbody>\n",
       "    <tr>\n",
       "      <th>0</th>\n",
       "      <td>2019</td>\n",
       "      <td>Qtr 4</td>\n",
       "      <td>December</td>\n",
       "      <td>1</td>\n",
       "      <td>4250.0</td>\n",
       "      <td>13419.63</td>\n",
       "      <td>9688.16</td>\n",
       "      <td>9688.16</td>\n",
       "      <td>1768.3765</td>\n",
       "    </tr>\n",
       "    <tr>\n",
       "      <th>1</th>\n",
       "      <td>2019</td>\n",
       "      <td>Qtr 4</td>\n",
       "      <td>November</td>\n",
       "      <td>1</td>\n",
       "      <td>3750.0</td>\n",
       "      <td>11840.85</td>\n",
       "      <td>8548.37</td>\n",
       "      <td>8548.37</td>\n",
       "      <td>1487.7623</td>\n",
       "    </tr>\n",
       "    <tr>\n",
       "      <th>2</th>\n",
       "      <td>2020</td>\n",
       "      <td>Qtr 1</td>\n",
       "      <td>February</td>\n",
       "      <td>1</td>\n",
       "      <td>3250.0</td>\n",
       "      <td>10262.07</td>\n",
       "      <td>7408.61</td>\n",
       "      <td>7408.61</td>\n",
       "      <td>1029.5232</td>\n",
       "    </tr>\n",
       "    <tr>\n",
       "      <th>3</th>\n",
       "      <td>2020</td>\n",
       "      <td>Qtr 1</td>\n",
       "      <td>January</td>\n",
       "      <td>1</td>\n",
       "      <td>4875.0</td>\n",
       "      <td>15687.88</td>\n",
       "      <td>11325.69</td>\n",
       "      <td>11325.69</td>\n",
       "      <td>1951.4846</td>\n",
       "    </tr>\n",
       "    <tr>\n",
       "      <th>4</th>\n",
       "      <td>2020</td>\n",
       "      <td>Qtr 1</td>\n",
       "      <td>March</td>\n",
       "      <td>1</td>\n",
       "      <td>5750.0</td>\n",
       "      <td>18155.97</td>\n",
       "      <td>13107.52</td>\n",
       "      <td>13107.52</td>\n",
       "      <td>1930.4243</td>\n",
       "    </tr>\n",
       "  </tbody>\n",
       "</table>\n",
       "</div>"
      ],
      "text/plain": [
       "   Year Quarter     Month  Day  QUANTITY_BILLED  AMOUNT_BILLED  ACTIVITY_REVENUE  NET_REVENUE  GROSS_MARGIN\n",
       "0  2019   Qtr 4  December    1           4250.0       13419.63           9688.16      9688.16     1768.3765\n",
       "1  2019   Qtr 4  November    1           3750.0       11840.85           8548.37      8548.37     1487.7623\n",
       "2  2020   Qtr 1  February    1           3250.0       10262.07           7408.61      7408.61     1029.5232\n",
       "3  2020   Qtr 1   January    1           4875.0       15687.88          11325.69     11325.69     1951.4846\n",
       "4  2020   Qtr 1     March    1           5750.0       18155.97          13107.52     13107.52     1930.4243"
      ]
     },
     "execution_count": 26,
     "metadata": {},
     "output_type": "execute_result"
    }
   ],
   "source": [
    "df_sku_agg.head()"
   ]
  },
  {
   "cell_type": "code",
   "execution_count": 40,
   "metadata": {},
   "outputs": [],
   "source": [
    "df_sku_agg['year_str'] = df_sku_agg['Year'].astype(str)"
   ]
  },
  {
   "cell_type": "code",
   "execution_count": 41,
   "metadata": {},
   "outputs": [],
   "source": [
    "df_sku_agg['year-month'] = df_sku_agg[['year_str','Month']].apply(lambda row: '_'.join(row.values.astype(str)), axis=1)"
   ]
  },
  {
   "cell_type": "code",
   "execution_count": 42,
   "metadata": {},
   "outputs": [
    {
     "data": {
      "text/html": [
       "<div>\n",
       "<style scoped>\n",
       "    .dataframe tbody tr th:only-of-type {\n",
       "        vertical-align: middle;\n",
       "    }\n",
       "\n",
       "    .dataframe tbody tr th {\n",
       "        vertical-align: top;\n",
       "    }\n",
       "\n",
       "    .dataframe thead th {\n",
       "        text-align: right;\n",
       "    }\n",
       "</style>\n",
       "<table border=\"1\" class=\"dataframe\">\n",
       "  <thead>\n",
       "    <tr style=\"text-align: right;\">\n",
       "      <th></th>\n",
       "      <th>Year</th>\n",
       "      <th>Quarter</th>\n",
       "      <th>Month</th>\n",
       "      <th>Day</th>\n",
       "      <th>QUANTITY_BILLED</th>\n",
       "      <th>AMOUNT_BILLED</th>\n",
       "      <th>ACTIVITY_REVENUE</th>\n",
       "      <th>NET_REVENUE</th>\n",
       "      <th>GROSS_MARGIN</th>\n",
       "      <th>year_str</th>\n",
       "      <th>year-month</th>\n",
       "    </tr>\n",
       "  </thead>\n",
       "  <tbody>\n",
       "    <tr>\n",
       "      <th>0</th>\n",
       "      <td>2019</td>\n",
       "      <td>Qtr 4</td>\n",
       "      <td>December</td>\n",
       "      <td>1</td>\n",
       "      <td>4250.0</td>\n",
       "      <td>13419.63</td>\n",
       "      <td>9688.16</td>\n",
       "      <td>9688.16</td>\n",
       "      <td>1768.3765</td>\n",
       "      <td>2019</td>\n",
       "      <td>2019_December</td>\n",
       "    </tr>\n",
       "    <tr>\n",
       "      <th>1</th>\n",
       "      <td>2019</td>\n",
       "      <td>Qtr 4</td>\n",
       "      <td>November</td>\n",
       "      <td>1</td>\n",
       "      <td>3750.0</td>\n",
       "      <td>11840.85</td>\n",
       "      <td>8548.37</td>\n",
       "      <td>8548.37</td>\n",
       "      <td>1487.7623</td>\n",
       "      <td>2019</td>\n",
       "      <td>2019_November</td>\n",
       "    </tr>\n",
       "    <tr>\n",
       "      <th>2</th>\n",
       "      <td>2020</td>\n",
       "      <td>Qtr 1</td>\n",
       "      <td>February</td>\n",
       "      <td>1</td>\n",
       "      <td>3250.0</td>\n",
       "      <td>10262.07</td>\n",
       "      <td>7408.61</td>\n",
       "      <td>7408.61</td>\n",
       "      <td>1029.5232</td>\n",
       "      <td>2020</td>\n",
       "      <td>2020_February</td>\n",
       "    </tr>\n",
       "    <tr>\n",
       "      <th>3</th>\n",
       "      <td>2020</td>\n",
       "      <td>Qtr 1</td>\n",
       "      <td>January</td>\n",
       "      <td>1</td>\n",
       "      <td>4875.0</td>\n",
       "      <td>15687.88</td>\n",
       "      <td>11325.69</td>\n",
       "      <td>11325.69</td>\n",
       "      <td>1951.4846</td>\n",
       "      <td>2020</td>\n",
       "      <td>2020_January</td>\n",
       "    </tr>\n",
       "    <tr>\n",
       "      <th>4</th>\n",
       "      <td>2020</td>\n",
       "      <td>Qtr 1</td>\n",
       "      <td>March</td>\n",
       "      <td>1</td>\n",
       "      <td>5750.0</td>\n",
       "      <td>18155.97</td>\n",
       "      <td>13107.52</td>\n",
       "      <td>13107.52</td>\n",
       "      <td>1930.4243</td>\n",
       "      <td>2020</td>\n",
       "      <td>2020_March</td>\n",
       "    </tr>\n",
       "    <tr>\n",
       "      <th>5</th>\n",
       "      <td>2020</td>\n",
       "      <td>Qtr 2</td>\n",
       "      <td>April</td>\n",
       "      <td>1</td>\n",
       "      <td>3500.0</td>\n",
       "      <td>11288.13</td>\n",
       "      <td>8149.35</td>\n",
       "      <td>8149.35</td>\n",
       "      <td>965.2448</td>\n",
       "      <td>2020</td>\n",
       "      <td>2020_April</td>\n",
       "    </tr>\n",
       "    <tr>\n",
       "      <th>6</th>\n",
       "      <td>2020</td>\n",
       "      <td>Qtr 2</td>\n",
       "      <td>June</td>\n",
       "      <td>1</td>\n",
       "      <td>3750.0</td>\n",
       "      <td>12746.37</td>\n",
       "      <td>9202.10</td>\n",
       "      <td>9202.10</td>\n",
       "      <td>1315.2137</td>\n",
       "      <td>2020</td>\n",
       "      <td>2020_June</td>\n",
       "    </tr>\n",
       "    <tr>\n",
       "      <th>7</th>\n",
       "      <td>2020</td>\n",
       "      <td>Qtr 2</td>\n",
       "      <td>May</td>\n",
       "      <td>1</td>\n",
       "      <td>3500.0</td>\n",
       "      <td>11987.85</td>\n",
       "      <td>8654.49</td>\n",
       "      <td>8654.49</td>\n",
       "      <td>1217.9325</td>\n",
       "      <td>2020</td>\n",
       "      <td>2020_May</td>\n",
       "    </tr>\n",
       "    <tr>\n",
       "      <th>8</th>\n",
       "      <td>2020</td>\n",
       "      <td>Qtr 3</td>\n",
       "      <td>August</td>\n",
       "      <td>1</td>\n",
       "      <td>10500.0</td>\n",
       "      <td>37196.88</td>\n",
       "      <td>26853.87</td>\n",
       "      <td>26853.87</td>\n",
       "      <td>4259.5893</td>\n",
       "      <td>2020</td>\n",
       "      <td>2020_August</td>\n",
       "    </tr>\n",
       "    <tr>\n",
       "      <th>9</th>\n",
       "      <td>2020</td>\n",
       "      <td>Qtr 3</td>\n",
       "      <td>July</td>\n",
       "      <td>1</td>\n",
       "      <td>4500.0</td>\n",
       "      <td>15061.04</td>\n",
       "      <td>10873.13</td>\n",
       "      <td>10873.13</td>\n",
       "      <td>1301.9587</td>\n",
       "      <td>2020</td>\n",
       "      <td>2020_July</td>\n",
       "    </tr>\n",
       "    <tr>\n",
       "      <th>10</th>\n",
       "      <td>2020</td>\n",
       "      <td>Qtr 3</td>\n",
       "      <td>September</td>\n",
       "      <td>1</td>\n",
       "      <td>6750.0</td>\n",
       "      <td>25308.98</td>\n",
       "      <td>18271.50</td>\n",
       "      <td>18271.50</td>\n",
       "      <td>3825.3520</td>\n",
       "      <td>2020</td>\n",
       "      <td>2020_September</td>\n",
       "    </tr>\n",
       "    <tr>\n",
       "      <th>11</th>\n",
       "      <td>2020</td>\n",
       "      <td>Qtr 4</td>\n",
       "      <td>October</td>\n",
       "      <td>1</td>\n",
       "      <td>3500.0</td>\n",
       "      <td>14174.13</td>\n",
       "      <td>10232.88</td>\n",
       "      <td>10232.88</td>\n",
       "      <td>1631.6959</td>\n",
       "      <td>2020</td>\n",
       "      <td>2020_October</td>\n",
       "    </tr>\n",
       "  </tbody>\n",
       "</table>\n",
       "</div>"
      ],
      "text/plain": [
       "    Year Quarter      Month  Day  QUANTITY_BILLED  AMOUNT_BILLED  ACTIVITY_REVENUE  NET_REVENUE  GROSS_MARGIN year_str      year-month\n",
       "0   2019   Qtr 4   December    1           4250.0       13419.63           9688.16      9688.16     1768.3765     2019   2019_December\n",
       "1   2019   Qtr 4   November    1           3750.0       11840.85           8548.37      8548.37     1487.7623     2019   2019_November\n",
       "2   2020   Qtr 1   February    1           3250.0       10262.07           7408.61      7408.61     1029.5232     2020   2020_February\n",
       "3   2020   Qtr 1    January    1           4875.0       15687.88          11325.69     11325.69     1951.4846     2020    2020_January\n",
       "4   2020   Qtr 1      March    1           5750.0       18155.97          13107.52     13107.52     1930.4243     2020      2020_March\n",
       "5   2020   Qtr 2      April    1           3500.0       11288.13           8149.35      8149.35      965.2448     2020      2020_April\n",
       "6   2020   Qtr 2       June    1           3750.0       12746.37           9202.10      9202.10     1315.2137     2020       2020_June\n",
       "7   2020   Qtr 2        May    1           3500.0       11987.85           8654.49      8654.49     1217.9325     2020        2020_May\n",
       "8   2020   Qtr 3     August    1          10500.0       37196.88          26853.87     26853.87     4259.5893     2020     2020_August\n",
       "9   2020   Qtr 3       July    1           4500.0       15061.04          10873.13     10873.13     1301.9587     2020       2020_July\n",
       "10  2020   Qtr 3  September    1           6750.0       25308.98          18271.50     18271.50     3825.3520     2020  2020_September\n",
       "11  2020   Qtr 4    October    1           3500.0       14174.13          10232.88     10232.88     1631.6959     2020    2020_October"
      ]
     },
     "execution_count": 42,
     "metadata": {},
     "output_type": "execute_result"
    }
   ],
   "source": [
    "df_sku_agg"
   ]
  },
  {
   "cell_type": "code",
   "execution_count": 45,
   "metadata": {},
   "outputs": [],
   "source": [
    "import plotly.graph_objects as go"
   ]
  },
  {
   "cell_type": "code",
   "execution_count": 51,
   "metadata": {},
   "outputs": [
    {
     "data": {
      "application/vnd.plotly.v1+json": {
       "config": {
        "plotlyServerURL": "https://plot.ly"
       },
       "data": [
        {
         "type": "scatter",
         "x": [
          "2019_December",
          "2019_November",
          "2020_February",
          "2020_January",
          "2020_March",
          "2020_April",
          "2020_June",
          "2020_May",
          "2020_August",
          "2020_July",
          "2020_September",
          "2020_October"
         ],
         "y": [
          4250,
          3750,
          3250,
          4875,
          5750,
          3500,
          3750,
          3500,
          10500,
          4500,
          6750,
          3500
         ]
        },
        {
         "type": "scatter",
         "x": [
          "2019_December",
          "2019_November",
          "2020_February",
          "2020_January",
          "2020_March",
          "2020_April",
          "2020_June",
          "2020_May",
          "2020_August",
          "2020_July",
          "2020_September",
          "2020_October"
         ],
         "y": [
          13419.63,
          11840.849999999999,
          10262.07,
          15687.88,
          18155.97,
          11288.13,
          12746.369999999999,
          11987.85,
          37196.88,
          15061.04,
          25308.980000000003,
          14174.130000000001
         ]
        }
       ],
       "layout": {
        "template": {
         "data": {
          "bar": [
           {
            "error_x": {
             "color": "#2a3f5f"
            },
            "error_y": {
             "color": "#2a3f5f"
            },
            "marker": {
             "line": {
              "color": "#E5ECF6",
              "width": 0.5
             },
             "pattern": {
              "fillmode": "overlay",
              "size": 10,
              "solidity": 0.2
             }
            },
            "type": "bar"
           }
          ],
          "barpolar": [
           {
            "marker": {
             "line": {
              "color": "#E5ECF6",
              "width": 0.5
             },
             "pattern": {
              "fillmode": "overlay",
              "size": 10,
              "solidity": 0.2
             }
            },
            "type": "barpolar"
           }
          ],
          "carpet": [
           {
            "aaxis": {
             "endlinecolor": "#2a3f5f",
             "gridcolor": "white",
             "linecolor": "white",
             "minorgridcolor": "white",
             "startlinecolor": "#2a3f5f"
            },
            "baxis": {
             "endlinecolor": "#2a3f5f",
             "gridcolor": "white",
             "linecolor": "white",
             "minorgridcolor": "white",
             "startlinecolor": "#2a3f5f"
            },
            "type": "carpet"
           }
          ],
          "choropleth": [
           {
            "colorbar": {
             "outlinewidth": 0,
             "ticks": ""
            },
            "type": "choropleth"
           }
          ],
          "contour": [
           {
            "colorbar": {
             "outlinewidth": 0,
             "ticks": ""
            },
            "colorscale": [
             [
              0,
              "#0d0887"
             ],
             [
              0.1111111111111111,
              "#46039f"
             ],
             [
              0.2222222222222222,
              "#7201a8"
             ],
             [
              0.3333333333333333,
              "#9c179e"
             ],
             [
              0.4444444444444444,
              "#bd3786"
             ],
             [
              0.5555555555555556,
              "#d8576b"
             ],
             [
              0.6666666666666666,
              "#ed7953"
             ],
             [
              0.7777777777777778,
              "#fb9f3a"
             ],
             [
              0.8888888888888888,
              "#fdca26"
             ],
             [
              1,
              "#f0f921"
             ]
            ],
            "type": "contour"
           }
          ],
          "contourcarpet": [
           {
            "colorbar": {
             "outlinewidth": 0,
             "ticks": ""
            },
            "type": "contourcarpet"
           }
          ],
          "heatmap": [
           {
            "colorbar": {
             "outlinewidth": 0,
             "ticks": ""
            },
            "colorscale": [
             [
              0,
              "#0d0887"
             ],
             [
              0.1111111111111111,
              "#46039f"
             ],
             [
              0.2222222222222222,
              "#7201a8"
             ],
             [
              0.3333333333333333,
              "#9c179e"
             ],
             [
              0.4444444444444444,
              "#bd3786"
             ],
             [
              0.5555555555555556,
              "#d8576b"
             ],
             [
              0.6666666666666666,
              "#ed7953"
             ],
             [
              0.7777777777777778,
              "#fb9f3a"
             ],
             [
              0.8888888888888888,
              "#fdca26"
             ],
             [
              1,
              "#f0f921"
             ]
            ],
            "type": "heatmap"
           }
          ],
          "heatmapgl": [
           {
            "colorbar": {
             "outlinewidth": 0,
             "ticks": ""
            },
            "colorscale": [
             [
              0,
              "#0d0887"
             ],
             [
              0.1111111111111111,
              "#46039f"
             ],
             [
              0.2222222222222222,
              "#7201a8"
             ],
             [
              0.3333333333333333,
              "#9c179e"
             ],
             [
              0.4444444444444444,
              "#bd3786"
             ],
             [
              0.5555555555555556,
              "#d8576b"
             ],
             [
              0.6666666666666666,
              "#ed7953"
             ],
             [
              0.7777777777777778,
              "#fb9f3a"
             ],
             [
              0.8888888888888888,
              "#fdca26"
             ],
             [
              1,
              "#f0f921"
             ]
            ],
            "type": "heatmapgl"
           }
          ],
          "histogram": [
           {
            "marker": {
             "pattern": {
              "fillmode": "overlay",
              "size": 10,
              "solidity": 0.2
             }
            },
            "type": "histogram"
           }
          ],
          "histogram2d": [
           {
            "colorbar": {
             "outlinewidth": 0,
             "ticks": ""
            },
            "colorscale": [
             [
              0,
              "#0d0887"
             ],
             [
              0.1111111111111111,
              "#46039f"
             ],
             [
              0.2222222222222222,
              "#7201a8"
             ],
             [
              0.3333333333333333,
              "#9c179e"
             ],
             [
              0.4444444444444444,
              "#bd3786"
             ],
             [
              0.5555555555555556,
              "#d8576b"
             ],
             [
              0.6666666666666666,
              "#ed7953"
             ],
             [
              0.7777777777777778,
              "#fb9f3a"
             ],
             [
              0.8888888888888888,
              "#fdca26"
             ],
             [
              1,
              "#f0f921"
             ]
            ],
            "type": "histogram2d"
           }
          ],
          "histogram2dcontour": [
           {
            "colorbar": {
             "outlinewidth": 0,
             "ticks": ""
            },
            "colorscale": [
             [
              0,
              "#0d0887"
             ],
             [
              0.1111111111111111,
              "#46039f"
             ],
             [
              0.2222222222222222,
              "#7201a8"
             ],
             [
              0.3333333333333333,
              "#9c179e"
             ],
             [
              0.4444444444444444,
              "#bd3786"
             ],
             [
              0.5555555555555556,
              "#d8576b"
             ],
             [
              0.6666666666666666,
              "#ed7953"
             ],
             [
              0.7777777777777778,
              "#fb9f3a"
             ],
             [
              0.8888888888888888,
              "#fdca26"
             ],
             [
              1,
              "#f0f921"
             ]
            ],
            "type": "histogram2dcontour"
           }
          ],
          "mesh3d": [
           {
            "colorbar": {
             "outlinewidth": 0,
             "ticks": ""
            },
            "type": "mesh3d"
           }
          ],
          "parcoords": [
           {
            "line": {
             "colorbar": {
              "outlinewidth": 0,
              "ticks": ""
             }
            },
            "type": "parcoords"
           }
          ],
          "pie": [
           {
            "automargin": true,
            "type": "pie"
           }
          ],
          "scatter": [
           {
            "fillpattern": {
             "fillmode": "overlay",
             "size": 10,
             "solidity": 0.2
            },
            "type": "scatter"
           }
          ],
          "scatter3d": [
           {
            "line": {
             "colorbar": {
              "outlinewidth": 0,
              "ticks": ""
             }
            },
            "marker": {
             "colorbar": {
              "outlinewidth": 0,
              "ticks": ""
             }
            },
            "type": "scatter3d"
           }
          ],
          "scattercarpet": [
           {
            "marker": {
             "colorbar": {
              "outlinewidth": 0,
              "ticks": ""
             }
            },
            "type": "scattercarpet"
           }
          ],
          "scattergeo": [
           {
            "marker": {
             "colorbar": {
              "outlinewidth": 0,
              "ticks": ""
             }
            },
            "type": "scattergeo"
           }
          ],
          "scattergl": [
           {
            "marker": {
             "colorbar": {
              "outlinewidth": 0,
              "ticks": ""
             }
            },
            "type": "scattergl"
           }
          ],
          "scattermapbox": [
           {
            "marker": {
             "colorbar": {
              "outlinewidth": 0,
              "ticks": ""
             }
            },
            "type": "scattermapbox"
           }
          ],
          "scatterpolar": [
           {
            "marker": {
             "colorbar": {
              "outlinewidth": 0,
              "ticks": ""
             }
            },
            "type": "scatterpolar"
           }
          ],
          "scatterpolargl": [
           {
            "marker": {
             "colorbar": {
              "outlinewidth": 0,
              "ticks": ""
             }
            },
            "type": "scatterpolargl"
           }
          ],
          "scatterternary": [
           {
            "marker": {
             "colorbar": {
              "outlinewidth": 0,
              "ticks": ""
             }
            },
            "type": "scatterternary"
           }
          ],
          "surface": [
           {
            "colorbar": {
             "outlinewidth": 0,
             "ticks": ""
            },
            "colorscale": [
             [
              0,
              "#0d0887"
             ],
             [
              0.1111111111111111,
              "#46039f"
             ],
             [
              0.2222222222222222,
              "#7201a8"
             ],
             [
              0.3333333333333333,
              "#9c179e"
             ],
             [
              0.4444444444444444,
              "#bd3786"
             ],
             [
              0.5555555555555556,
              "#d8576b"
             ],
             [
              0.6666666666666666,
              "#ed7953"
             ],
             [
              0.7777777777777778,
              "#fb9f3a"
             ],
             [
              0.8888888888888888,
              "#fdca26"
             ],
             [
              1,
              "#f0f921"
             ]
            ],
            "type": "surface"
           }
          ],
          "table": [
           {
            "cells": {
             "fill": {
              "color": "#EBF0F8"
             },
             "line": {
              "color": "white"
             }
            },
            "header": {
             "fill": {
              "color": "#C8D4E3"
             },
             "line": {
              "color": "white"
             }
            },
            "type": "table"
           }
          ]
         },
         "layout": {
          "annotationdefaults": {
           "arrowcolor": "#2a3f5f",
           "arrowhead": 0,
           "arrowwidth": 1
          },
          "autotypenumbers": "strict",
          "coloraxis": {
           "colorbar": {
            "outlinewidth": 0,
            "ticks": ""
           }
          },
          "colorscale": {
           "diverging": [
            [
             0,
             "#8e0152"
            ],
            [
             0.1,
             "#c51b7d"
            ],
            [
             0.2,
             "#de77ae"
            ],
            [
             0.3,
             "#f1b6da"
            ],
            [
             0.4,
             "#fde0ef"
            ],
            [
             0.5,
             "#f7f7f7"
            ],
            [
             0.6,
             "#e6f5d0"
            ],
            [
             0.7,
             "#b8e186"
            ],
            [
             0.8,
             "#7fbc41"
            ],
            [
             0.9,
             "#4d9221"
            ],
            [
             1,
             "#276419"
            ]
           ],
           "sequential": [
            [
             0,
             "#0d0887"
            ],
            [
             0.1111111111111111,
             "#46039f"
            ],
            [
             0.2222222222222222,
             "#7201a8"
            ],
            [
             0.3333333333333333,
             "#9c179e"
            ],
            [
             0.4444444444444444,
             "#bd3786"
            ],
            [
             0.5555555555555556,
             "#d8576b"
            ],
            [
             0.6666666666666666,
             "#ed7953"
            ],
            [
             0.7777777777777778,
             "#fb9f3a"
            ],
            [
             0.8888888888888888,
             "#fdca26"
            ],
            [
             1,
             "#f0f921"
            ]
           ],
           "sequentialminus": [
            [
             0,
             "#0d0887"
            ],
            [
             0.1111111111111111,
             "#46039f"
            ],
            [
             0.2222222222222222,
             "#7201a8"
            ],
            [
             0.3333333333333333,
             "#9c179e"
            ],
            [
             0.4444444444444444,
             "#bd3786"
            ],
            [
             0.5555555555555556,
             "#d8576b"
            ],
            [
             0.6666666666666666,
             "#ed7953"
            ],
            [
             0.7777777777777778,
             "#fb9f3a"
            ],
            [
             0.8888888888888888,
             "#fdca26"
            ],
            [
             1,
             "#f0f921"
            ]
           ]
          },
          "colorway": [
           "#636efa",
           "#EF553B",
           "#00cc96",
           "#ab63fa",
           "#FFA15A",
           "#19d3f3",
           "#FF6692",
           "#B6E880",
           "#FF97FF",
           "#FECB52"
          ],
          "font": {
           "color": "#2a3f5f"
          },
          "geo": {
           "bgcolor": "white",
           "lakecolor": "white",
           "landcolor": "#E5ECF6",
           "showlakes": true,
           "showland": true,
           "subunitcolor": "white"
          },
          "hoverlabel": {
           "align": "left"
          },
          "hovermode": "closest",
          "mapbox": {
           "style": "light"
          },
          "paper_bgcolor": "white",
          "plot_bgcolor": "#E5ECF6",
          "polar": {
           "angularaxis": {
            "gridcolor": "white",
            "linecolor": "white",
            "ticks": ""
           },
           "bgcolor": "#E5ECF6",
           "radialaxis": {
            "gridcolor": "white",
            "linecolor": "white",
            "ticks": ""
           }
          },
          "scene": {
           "xaxis": {
            "backgroundcolor": "#E5ECF6",
            "gridcolor": "white",
            "gridwidth": 2,
            "linecolor": "white",
            "showbackground": true,
            "ticks": "",
            "zerolinecolor": "white"
           },
           "yaxis": {
            "backgroundcolor": "#E5ECF6",
            "gridcolor": "white",
            "gridwidth": 2,
            "linecolor": "white",
            "showbackground": true,
            "ticks": "",
            "zerolinecolor": "white"
           },
           "zaxis": {
            "backgroundcolor": "#E5ECF6",
            "gridcolor": "white",
            "gridwidth": 2,
            "linecolor": "white",
            "showbackground": true,
            "ticks": "",
            "zerolinecolor": "white"
           }
          },
          "shapedefaults": {
           "line": {
            "color": "#2a3f5f"
           }
          },
          "ternary": {
           "aaxis": {
            "gridcolor": "white",
            "linecolor": "white",
            "ticks": ""
           },
           "baxis": {
            "gridcolor": "white",
            "linecolor": "white",
            "ticks": ""
           },
           "bgcolor": "#E5ECF6",
           "caxis": {
            "gridcolor": "white",
            "linecolor": "white",
            "ticks": ""
           }
          },
          "title": {
           "x": 0.05
          },
          "xaxis": {
           "automargin": true,
           "gridcolor": "white",
           "linecolor": "white",
           "ticks": "",
           "title": {
            "standoff": 15
           },
           "zerolinecolor": "white",
           "zerolinewidth": 2
          },
          "yaxis": {
           "automargin": true,
           "gridcolor": "white",
           "linecolor": "white",
           "ticks": "",
           "title": {
            "standoff": 15
           },
           "zerolinecolor": "white",
           "zerolinewidth": 2
          }
         }
        }
       }
      },
      "text/html": [
       "<div>                            <div id=\"91274a74-1810-47c3-a208-64ee21238918\" class=\"plotly-graph-div\" style=\"height:525px; width:100%;\"></div>            <script type=\"text/javascript\">                require([\"plotly\"], function(Plotly) {                    window.PLOTLYENV=window.PLOTLYENV || {};                                    if (document.getElementById(\"91274a74-1810-47c3-a208-64ee21238918\")) {                    Plotly.newPlot(                        \"91274a74-1810-47c3-a208-64ee21238918\",                        [{\"x\":[\"2019_December\",\"2019_November\",\"2020_February\",\"2020_January\",\"2020_March\",\"2020_April\",\"2020_June\",\"2020_May\",\"2020_August\",\"2020_July\",\"2020_September\",\"2020_October\"],\"y\":[4250.0,3750.0,3250.0,4875.0,5750.0,3500.0,3750.0,3500.0,10500.0,4500.0,6750.0,3500.0],\"type\":\"scatter\"},{\"x\":[\"2019_December\",\"2019_November\",\"2020_February\",\"2020_January\",\"2020_March\",\"2020_April\",\"2020_June\",\"2020_May\",\"2020_August\",\"2020_July\",\"2020_September\",\"2020_October\"],\"y\":[13419.63,11840.849999999999,10262.07,15687.88,18155.97,11288.13,12746.369999999999,11987.85,37196.88,15061.04,25308.980000000003,14174.130000000001],\"type\":\"scatter\"}],                        {\"template\":{\"data\":{\"histogram2dcontour\":[{\"type\":\"histogram2dcontour\",\"colorbar\":{\"outlinewidth\":0,\"ticks\":\"\"},\"colorscale\":[[0.0,\"#0d0887\"],[0.1111111111111111,\"#46039f\"],[0.2222222222222222,\"#7201a8\"],[0.3333333333333333,\"#9c179e\"],[0.4444444444444444,\"#bd3786\"],[0.5555555555555556,\"#d8576b\"],[0.6666666666666666,\"#ed7953\"],[0.7777777777777778,\"#fb9f3a\"],[0.8888888888888888,\"#fdca26\"],[1.0,\"#f0f921\"]]}],\"choropleth\":[{\"type\":\"choropleth\",\"colorbar\":{\"outlinewidth\":0,\"ticks\":\"\"}}],\"histogram2d\":[{\"type\":\"histogram2d\",\"colorbar\":{\"outlinewidth\":0,\"ticks\":\"\"},\"colorscale\":[[0.0,\"#0d0887\"],[0.1111111111111111,\"#46039f\"],[0.2222222222222222,\"#7201a8\"],[0.3333333333333333,\"#9c179e\"],[0.4444444444444444,\"#bd3786\"],[0.5555555555555556,\"#d8576b\"],[0.6666666666666666,\"#ed7953\"],[0.7777777777777778,\"#fb9f3a\"],[0.8888888888888888,\"#fdca26\"],[1.0,\"#f0f921\"]]}],\"heatmap\":[{\"type\":\"heatmap\",\"colorbar\":{\"outlinewidth\":0,\"ticks\":\"\"},\"colorscale\":[[0.0,\"#0d0887\"],[0.1111111111111111,\"#46039f\"],[0.2222222222222222,\"#7201a8\"],[0.3333333333333333,\"#9c179e\"],[0.4444444444444444,\"#bd3786\"],[0.5555555555555556,\"#d8576b\"],[0.6666666666666666,\"#ed7953\"],[0.7777777777777778,\"#fb9f3a\"],[0.8888888888888888,\"#fdca26\"],[1.0,\"#f0f921\"]]}],\"heatmapgl\":[{\"type\":\"heatmapgl\",\"colorbar\":{\"outlinewidth\":0,\"ticks\":\"\"},\"colorscale\":[[0.0,\"#0d0887\"],[0.1111111111111111,\"#46039f\"],[0.2222222222222222,\"#7201a8\"],[0.3333333333333333,\"#9c179e\"],[0.4444444444444444,\"#bd3786\"],[0.5555555555555556,\"#d8576b\"],[0.6666666666666666,\"#ed7953\"],[0.7777777777777778,\"#fb9f3a\"],[0.8888888888888888,\"#fdca26\"],[1.0,\"#f0f921\"]]}],\"contourcarpet\":[{\"type\":\"contourcarpet\",\"colorbar\":{\"outlinewidth\":0,\"ticks\":\"\"}}],\"contour\":[{\"type\":\"contour\",\"colorbar\":{\"outlinewidth\":0,\"ticks\":\"\"},\"colorscale\":[[0.0,\"#0d0887\"],[0.1111111111111111,\"#46039f\"],[0.2222222222222222,\"#7201a8\"],[0.3333333333333333,\"#9c179e\"],[0.4444444444444444,\"#bd3786\"],[0.5555555555555556,\"#d8576b\"],[0.6666666666666666,\"#ed7953\"],[0.7777777777777778,\"#fb9f3a\"],[0.8888888888888888,\"#fdca26\"],[1.0,\"#f0f921\"]]}],\"surface\":[{\"type\":\"surface\",\"colorbar\":{\"outlinewidth\":0,\"ticks\":\"\"},\"colorscale\":[[0.0,\"#0d0887\"],[0.1111111111111111,\"#46039f\"],[0.2222222222222222,\"#7201a8\"],[0.3333333333333333,\"#9c179e\"],[0.4444444444444444,\"#bd3786\"],[0.5555555555555556,\"#d8576b\"],[0.6666666666666666,\"#ed7953\"],[0.7777777777777778,\"#fb9f3a\"],[0.8888888888888888,\"#fdca26\"],[1.0,\"#f0f921\"]]}],\"mesh3d\":[{\"type\":\"mesh3d\",\"colorbar\":{\"outlinewidth\":0,\"ticks\":\"\"}}],\"scatter\":[{\"fillpattern\":{\"fillmode\":\"overlay\",\"size\":10,\"solidity\":0.2},\"type\":\"scatter\"}],\"parcoords\":[{\"type\":\"parcoords\",\"line\":{\"colorbar\":{\"outlinewidth\":0,\"ticks\":\"\"}}}],\"scatterpolargl\":[{\"type\":\"scatterpolargl\",\"marker\":{\"colorbar\":{\"outlinewidth\":0,\"ticks\":\"\"}}}],\"bar\":[{\"error_x\":{\"color\":\"#2a3f5f\"},\"error_y\":{\"color\":\"#2a3f5f\"},\"marker\":{\"line\":{\"color\":\"#E5ECF6\",\"width\":0.5},\"pattern\":{\"fillmode\":\"overlay\",\"size\":10,\"solidity\":0.2}},\"type\":\"bar\"}],\"scattergeo\":[{\"type\":\"scattergeo\",\"marker\":{\"colorbar\":{\"outlinewidth\":0,\"ticks\":\"\"}}}],\"scatterpolar\":[{\"type\":\"scatterpolar\",\"marker\":{\"colorbar\":{\"outlinewidth\":0,\"ticks\":\"\"}}}],\"histogram\":[{\"marker\":{\"pattern\":{\"fillmode\":\"overlay\",\"size\":10,\"solidity\":0.2}},\"type\":\"histogram\"}],\"scattergl\":[{\"type\":\"scattergl\",\"marker\":{\"colorbar\":{\"outlinewidth\":0,\"ticks\":\"\"}}}],\"scatter3d\":[{\"type\":\"scatter3d\",\"line\":{\"colorbar\":{\"outlinewidth\":0,\"ticks\":\"\"}},\"marker\":{\"colorbar\":{\"outlinewidth\":0,\"ticks\":\"\"}}}],\"scattermapbox\":[{\"type\":\"scattermapbox\",\"marker\":{\"colorbar\":{\"outlinewidth\":0,\"ticks\":\"\"}}}],\"scatterternary\":[{\"type\":\"scatterternary\",\"marker\":{\"colorbar\":{\"outlinewidth\":0,\"ticks\":\"\"}}}],\"scattercarpet\":[{\"type\":\"scattercarpet\",\"marker\":{\"colorbar\":{\"outlinewidth\":0,\"ticks\":\"\"}}}],\"carpet\":[{\"aaxis\":{\"endlinecolor\":\"#2a3f5f\",\"gridcolor\":\"white\",\"linecolor\":\"white\",\"minorgridcolor\":\"white\",\"startlinecolor\":\"#2a3f5f\"},\"baxis\":{\"endlinecolor\":\"#2a3f5f\",\"gridcolor\":\"white\",\"linecolor\":\"white\",\"minorgridcolor\":\"white\",\"startlinecolor\":\"#2a3f5f\"},\"type\":\"carpet\"}],\"table\":[{\"cells\":{\"fill\":{\"color\":\"#EBF0F8\"},\"line\":{\"color\":\"white\"}},\"header\":{\"fill\":{\"color\":\"#C8D4E3\"},\"line\":{\"color\":\"white\"}},\"type\":\"table\"}],\"barpolar\":[{\"marker\":{\"line\":{\"color\":\"#E5ECF6\",\"width\":0.5},\"pattern\":{\"fillmode\":\"overlay\",\"size\":10,\"solidity\":0.2}},\"type\":\"barpolar\"}],\"pie\":[{\"automargin\":true,\"type\":\"pie\"}]},\"layout\":{\"autotypenumbers\":\"strict\",\"colorway\":[\"#636efa\",\"#EF553B\",\"#00cc96\",\"#ab63fa\",\"#FFA15A\",\"#19d3f3\",\"#FF6692\",\"#B6E880\",\"#FF97FF\",\"#FECB52\"],\"font\":{\"color\":\"#2a3f5f\"},\"hovermode\":\"closest\",\"hoverlabel\":{\"align\":\"left\"},\"paper_bgcolor\":\"white\",\"plot_bgcolor\":\"#E5ECF6\",\"polar\":{\"bgcolor\":\"#E5ECF6\",\"angularaxis\":{\"gridcolor\":\"white\",\"linecolor\":\"white\",\"ticks\":\"\"},\"radialaxis\":{\"gridcolor\":\"white\",\"linecolor\":\"white\",\"ticks\":\"\"}},\"ternary\":{\"bgcolor\":\"#E5ECF6\",\"aaxis\":{\"gridcolor\":\"white\",\"linecolor\":\"white\",\"ticks\":\"\"},\"baxis\":{\"gridcolor\":\"white\",\"linecolor\":\"white\",\"ticks\":\"\"},\"caxis\":{\"gridcolor\":\"white\",\"linecolor\":\"white\",\"ticks\":\"\"}},\"coloraxis\":{\"colorbar\":{\"outlinewidth\":0,\"ticks\":\"\"}},\"colorscale\":{\"sequential\":[[0.0,\"#0d0887\"],[0.1111111111111111,\"#46039f\"],[0.2222222222222222,\"#7201a8\"],[0.3333333333333333,\"#9c179e\"],[0.4444444444444444,\"#bd3786\"],[0.5555555555555556,\"#d8576b\"],[0.6666666666666666,\"#ed7953\"],[0.7777777777777778,\"#fb9f3a\"],[0.8888888888888888,\"#fdca26\"],[1.0,\"#f0f921\"]],\"sequentialminus\":[[0.0,\"#0d0887\"],[0.1111111111111111,\"#46039f\"],[0.2222222222222222,\"#7201a8\"],[0.3333333333333333,\"#9c179e\"],[0.4444444444444444,\"#bd3786\"],[0.5555555555555556,\"#d8576b\"],[0.6666666666666666,\"#ed7953\"],[0.7777777777777778,\"#fb9f3a\"],[0.8888888888888888,\"#fdca26\"],[1.0,\"#f0f921\"]],\"diverging\":[[0,\"#8e0152\"],[0.1,\"#c51b7d\"],[0.2,\"#de77ae\"],[0.3,\"#f1b6da\"],[0.4,\"#fde0ef\"],[0.5,\"#f7f7f7\"],[0.6,\"#e6f5d0\"],[0.7,\"#b8e186\"],[0.8,\"#7fbc41\"],[0.9,\"#4d9221\"],[1,\"#276419\"]]},\"xaxis\":{\"gridcolor\":\"white\",\"linecolor\":\"white\",\"ticks\":\"\",\"title\":{\"standoff\":15},\"zerolinecolor\":\"white\",\"automargin\":true,\"zerolinewidth\":2},\"yaxis\":{\"gridcolor\":\"white\",\"linecolor\":\"white\",\"ticks\":\"\",\"title\":{\"standoff\":15},\"zerolinecolor\":\"white\",\"automargin\":true,\"zerolinewidth\":2},\"scene\":{\"xaxis\":{\"backgroundcolor\":\"#E5ECF6\",\"gridcolor\":\"white\",\"linecolor\":\"white\",\"showbackground\":true,\"ticks\":\"\",\"zerolinecolor\":\"white\",\"gridwidth\":2},\"yaxis\":{\"backgroundcolor\":\"#E5ECF6\",\"gridcolor\":\"white\",\"linecolor\":\"white\",\"showbackground\":true,\"ticks\":\"\",\"zerolinecolor\":\"white\",\"gridwidth\":2},\"zaxis\":{\"backgroundcolor\":\"#E5ECF6\",\"gridcolor\":\"white\",\"linecolor\":\"white\",\"showbackground\":true,\"ticks\":\"\",\"zerolinecolor\":\"white\",\"gridwidth\":2}},\"shapedefaults\":{\"line\":{\"color\":\"#2a3f5f\"}},\"annotationdefaults\":{\"arrowcolor\":\"#2a3f5f\",\"arrowhead\":0,\"arrowwidth\":1},\"geo\":{\"bgcolor\":\"white\",\"landcolor\":\"#E5ECF6\",\"subunitcolor\":\"white\",\"showland\":true,\"showlakes\":true,\"lakecolor\":\"white\"},\"title\":{\"x\":0.05},\"mapbox\":{\"style\":\"light\"}}}},                        {\"responsive\": true}                    ).then(function(){\n",
       "                            \n",
       "var gd = document.getElementById('91274a74-1810-47c3-a208-64ee21238918');\n",
       "var x = new MutationObserver(function (mutations, observer) {{\n",
       "        var display = window.getComputedStyle(gd).display;\n",
       "        if (!display || display === 'none') {{\n",
       "            console.log([gd, 'removed!']);\n",
       "            Plotly.purge(gd);\n",
       "            observer.disconnect();\n",
       "        }}\n",
       "}});\n",
       "\n",
       "// Listen for the removal of the full notebook cells\n",
       "var notebookContainer = gd.closest('#notebook-container');\n",
       "if (notebookContainer) {{\n",
       "    x.observe(notebookContainer, {childList: true});\n",
       "}}\n",
       "\n",
       "// Listen for the clearing of the current output cell\n",
       "var outputEl = gd.closest('.output');\n",
       "if (outputEl) {{\n",
       "    x.observe(outputEl, {childList: true});\n",
       "}}\n",
       "\n",
       "                        })                };                });            </script>        </div>"
      ]
     },
     "metadata": {},
     "output_type": "display_data"
    }
   ],
   "source": [
    "fig = go.Figure()\n",
    "fig.add_trace(go.Scatter(x = df_sku_agg['year-month'], y = df_sku_agg['QUANTITY_BILLED']))\n",
    "fig.add_trace(go.Scatter(x = df_sku_agg['year-month'], y = df_sku_agg['AMOUNT_BILLED']))\n",
    "\n",
    "fig.show()"
   ]
  },
  {
   "cell_type": "code",
   "execution_count": null,
   "metadata": {},
   "outputs": [],
   "source": []
  }
 ],
 "metadata": {
  "kernelspec": {
   "display_name": "opt-price0",
   "language": "python",
   "name": "python3"
  },
  "language_info": {
   "codemirror_mode": {
    "name": "ipython",
    "version": 3
   },
   "file_extension": ".py",
   "mimetype": "text/x-python",
   "name": "python",
   "nbconvert_exporter": "python",
   "pygments_lexer": "ipython3",
   "version": "3.11.2"
  },
  "orig_nbformat": 4
 },
 "nbformat": 4,
 "nbformat_minor": 2
}
